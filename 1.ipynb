{
 "cells": [
  {
   "cell_type": "code",
   "execution_count": 1,
   "metadata": {},
   "outputs": [],
   "source": [
    "import pandas as pd\n",
    "import torch\n",
    "import torch.nn as nn\n",
    "import torch.nn.init as init\n",
    "import torch.optim as optim\n",
    "from tqdm.notebook import tqdm\n"
   ]
  },
  {
   "cell_type": "code",
   "execution_count": 2,
   "metadata": {},
   "outputs": [],
   "source": [
    "class WaterDataset(torch.utils.data.Dataset):\n",
    "    def __init__(self, csv_path):\n",
    "        super().__init__()\n",
    "        df = pd.read_csv(csv_path)\n",
    "        self.data = df.to_numpy()\n",
    "    def __len__(self):\n",
    "        return self.data.shape[0]\n",
    "\n",
    "    def __getitem__(self,idx):\n",
    "        feature = torch.tensor(self.data[idx,:-1],dtype=torch.float32) #all column except last one\n",
    "        label = torch.tensor(self.data[idx,-1], dtype=torch.float32)\n",
    "        return feature, label"
   ]
  },
  {
   "cell_type": "code",
   "execution_count": 3,
   "metadata": {},
   "outputs": [],
   "source": [
    "dataset_train = WaterDataset(\"water_potability/water_train.csv\")\n",
    "\n",
    "dataloader_train = torch.utils.data.DataLoader(\n",
    "        dataset_train,\n",
    "        batch_size=2,\n",
    "        shuffle=True\n",
    ")\n",
    "\n",
    "\n",
    "\n"
   ]
  },
  {
   "cell_type": "code",
   "execution_count": 4,
   "metadata": {},
   "outputs": [],
   "source": [
    "class Net(nn.Module):\n",
    "    def __init__(self):\n",
    "        super(Net,self).__init__()\n",
    "        self.fc1 = nn.Linear(9, 16)\n",
    "        self.fc2 = nn.Linear(16, 8)\n",
    "        self.fc3 = nn.Linear(8,1)\n",
    "\n",
    "        init.kaiming_uniform_(self.fc1.weight)\n",
    "        init.kaiming_uniform_(self.fc2.weight)\n",
    "        init.kaiming_uniform_(self.fc3.weight, nonlinearity=\"sigmoid\")\n",
    "    def forward(self, x):\n",
    "        x = nn.functional.relu(self.fc1(x))\n",
    "        x = nn.functional.relu(self.fc2(x))\n",
    "        x = nn.functional.sigmoid(self.fc3(x))\n",
    "        return x\n"
   ]
  },
  {
   "cell_type": "code",
   "execution_count": 5,
   "metadata": {},
   "outputs": [
    {
     "data": {
      "application/vnd.jupyter.widget-view+json": {
       "model_id": "8fc725655c5b41f581adb121037ba2c2",
       "version_major": 2,
       "version_minor": 0
      },
      "text/plain": [
       "epoch_bar:   0%|          | 0/100 [00:00<?, ?it/s]"
      ]
     },
     "metadata": {},
     "output_type": "display_data"
    },
    {
     "data": {
      "application/vnd.jupyter.widget-view+json": {
       "model_id": "19bc107b451348cba77e5fcac796e47d",
       "version_major": 2,
       "version_minor": 0
      },
      "text/plain": [
       "train_bar:   0%|          | 0/754 [00:00<?, ?it/s]"
      ]
     },
     "metadata": {},
     "output_type": "display_data"
    }
   ],
   "source": [
    "epochs = 100\n",
    "\n",
    "\n",
    "epoch_bar = tqdm(desc=\"epoch_bar\", total = epochs, position=0)\n",
    "train_bar = tqdm(desc=\"train_bar\", total = len(dataloader_train), position=1)\n",
    "\n",
    "\n",
    "device = torch.device(\"cuda\")\n",
    "net = Net().to(device)\n",
    "criterion = nn.BCELoss()\n",
    "optimizer = optim.SGD(net.parameters(),lr=0.01)\n",
    "\n",
    "\n",
    "for epoch in range(1000):\n",
    "    for feature, label in dataloader_train:\n",
    "        #forward pass\n",
    "        feature = feature.to(device)\n",
    "        label = label.to(device)\n",
    "        output = net(feature) #forward\n",
    "        loss = criterion(output, label.view(-1, 1))\n",
    "\n",
    "        #backward pass\n",
    "        loss.backward()\n",
    "        optimizer.step() #optimize\n",
    "        optimizer.zero_grad() #clear gradient\n",
    "\n",
    "        train_bar.update()\n",
    "        train_bar.set_postfix(loss=loss.item())\n",
    "    train_bar.n = 0\n",
    "    epoch_bar.update()\n"
   ]
  },
  {
   "cell_type": "code",
   "execution_count": 6,
   "metadata": {},
   "outputs": [
    {
     "name": "stdout",
     "output_type": "stream",
     "text": [
      "Accuracy: 0.6640158891677856\n"
     ]
    }
   ],
   "source": [
    "from torchmetrics import Accuracy\n",
    "\n",
    "acc = Accuracy(task='binary').to(device)\n",
    "\n",
    "net.eval()\n",
    "\n",
    "dataset_test = WaterDataset(\"water_potability/water_test.csv\")\n",
    "\n",
    "dataloader_test = torch.utils.data.DataLoader(\n",
    "        dataset_test,\n",
    "        batch_size=2,\n",
    "        shuffle=True\n",
    ")\n",
    "\n",
    "\n",
    "\n",
    "with torch.no_grad():\n",
    "    for feature, label in dataloader_test:\n",
    "\n",
    "        feature = feature.to(device)\n",
    "        label = label.to(device)\n",
    "\n",
    "        output = net(feature)\n",
    "\n",
    "        pred = (output>=0.5).float() #true or false, float() to convert 1 and 0\n",
    "\n",
    "        acc(pred, label.view(-1, 1))\n",
    "accuracy = acc.compute()\n",
    "print(f\"Accuracy: {accuracy}\")"
   ]
  }
 ],
 "metadata": {
  "kernelspec": {
   "display_name": "torch",
   "language": "python",
   "name": "python3"
  },
  "language_info": {
   "codemirror_mode": {
    "name": "ipython",
    "version": 3
   },
   "file_extension": ".py",
   "mimetype": "text/x-python",
   "name": "python",
   "nbconvert_exporter": "python",
   "pygments_lexer": "ipython3",
   "version": "3.11.10"
  }
 },
 "nbformat": 4,
 "nbformat_minor": 2
}
